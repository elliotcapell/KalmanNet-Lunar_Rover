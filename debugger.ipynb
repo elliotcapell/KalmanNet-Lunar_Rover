{
 "cells": [
  {
   "cell_type": "code",
   "execution_count": 4,
   "metadata": {},
   "outputs": [],
   "source": [
    "import torch\n",
    "import torch.nn as nn\n",
    "import torch.nn.functional as func\n",
    "import torch.nn.init as init\n",
    "import numpy as np"
   ]
  },
  {
   "cell_type": "code",
   "execution_count": 2,
   "metadata": {},
   "outputs": [],
   "source": [
    "RoverTruth = torch.load('Simulations/LunarRoverSim/data/RoverTruth.pt')\n",
    "SkippedSatellite = torch.load('Simulations/LunarRoverSim/data/SkippedSatellite.pt')\n",
    "ProcessedObservations = torch.load('Simulations/LunarRoverSim/data/ProcessedObservations.pt')\n",
    "SatX = torch.load('Simulations/LunarRoverSim/data/SatX.pt')\n",
    "SatY = torch.load('Simulations/LunarRoverSim/data/SatY.pt')\n",
    "SatZ = torch.load('Simulations/LunarRoverSim/data/SatZ.pt')\n",
    "SatVx = torch.load('Simulations/LunarRoverSim/data/SatVx.pt')\n",
    "SatVy = torch.load('Simulations/LunarRoverSim/data/SatVy.pt')\n",
    "SatVz = torch.load('Simulations/LunarRoverSim/data/SatVz.pt')"
   ]
  },
  {
   "cell_type": "code",
   "execution_count": 3,
   "metadata": {},
   "outputs": [],
   "source": [
    "def h(State_est, BatchIndexes, t):\n",
    "\n",
    "    PredMeasurements = torch.zeros((BatchIndexes.numel(), 8, 1))\n",
    "    BatchIndexes = BatchIndexes * T + t \n",
    "    i = 0\n",
    "\n",
    "    for k in BatchIndexes:\n",
    "        k = int(k.item())\n",
    "        b = 0\n",
    "        for j in range(5):\n",
    "\n",
    "            # Skips when a satellite is occulted by the moon or based on GDOP\n",
    "            if j == SkippedSatellite[0, k] or SkippedSatellite[0, k] == -1:\n",
    "                continue\n",
    "            \n",
    "            # Calculating magnitude of range vector\n",
    "            Di = torch.sqrt((SatX[k, j] - State_est[i, 0])**2 + (SatY[k, j] - State_est[i, 2])**2 + (SatZ[k, j] - State_est[i, 4])**2)\n",
    "\n",
    "            # Calculating relative velocity vector\n",
    "            Vi = -((SatVx[k, j] - State_est[i, 1]) * -(SatX[k,j]-State_est[i, 0])/Di + (SatVy[k, j] - State_est[i, 3]) * -(SatY[k,j]-State_est[i, 2])/Di + (SatVz[k, j] - State_est[i, 5]) * -(SatZ[k,j]-State_est[i, 4])/Di)\n",
    "\n",
    "            # Predicted Measurement\n",
    "            PredMeasurements[i, b, 0] = Di + State_est[i, 6]\n",
    "            PredMeasurements[i, b + 1, 0] = Vi + State_est[i, 7]\n",
    "            b = b + 2\n",
    "\n",
    "            # print(\"Current k, j, b, t:\", k, j, b-2, t)\n",
    "            # print(\"Di:\", Di.item())\n",
    "            # print(\"Vi:\", Vi.item())\n",
    "            # print('SatX:', SatX[k, j])\n",
    "            # print('SatY:', SatY[k, j])\n",
    "            # print('SatZ:', SatZ[k, j])\n",
    "            # print('SatVx:', SatVx[k, j])\n",
    "            # print('SatVy:', SatVy[k, j])\n",
    "            # print('SatVz:', SatVz[k, j])\n",
    "            # print('Value:', State_est[i, 0], State_est[i, 2], State_est[i, 4], (SatX[k, j] - State_est[i, 0])**2)\n",
    "\n",
    "        i = i + 1\n",
    "\n",
    "    return PredMeasurements"
   ]
  },
  {
   "cell_type": "code",
   "execution_count": 5,
   "metadata": {},
   "outputs": [],
   "source": [
    "def f(x):\n",
    "    Fsub = np.array([[1, 1], [0, 1]], dtype=np.float32)\n",
    "    F = torch.tensor(np.kron(np.eye(4), Fsub), dtype=torch.float32).unsqueeze(0).repeat(x.size(0), 1, 1)\n",
    "    return torch.bmm(F, x)"
   ]
  },
  {
   "cell_type": "code",
   "execution_count": null,
   "metadata": {},
   "outputs": [],
   "source": [
    "x_0 = torch.tensor([\n",
    "    13785.8859115925,\n",
    "    0.106463063435197,\n",
    "    -12616.9930942748,\n",
    "    0.0694525864003876,\n",
    "    -1736366.32259110,\n",
    "    -0.0843550264298861,\n",
    "    88.8395631757642,\n",
    "    -0.114707010696915]).reshape(-1, 1)"
   ]
  },
  {
   "cell_type": "code",
   "execution_count": null,
   "metadata": {},
   "outputs": [],
   "source": [
    "def step_prior(self, batch_indexes, t):\n",
    "        # Predict the 1-st moment of x\n",
    "        self.m1x_prior = f(self.m1x_posterior)\n",
    "\n",
    "        # Predict the 1-st moment of y\n",
    "        self.m1y = h(self.m1x_prior, batch_indexes, t)"
   ]
  }
 ],
 "metadata": {
  "kernelspec": {
   "display_name": "Python 3",
   "language": "python",
   "name": "python3"
  },
  "language_info": {
   "codemirror_mode": {
    "name": "ipython",
    "version": 3
   },
   "file_extension": ".py",
   "mimetype": "text/x-python",
   "name": "python",
   "nbconvert_exporter": "python",
   "pygments_lexer": "ipython3",
   "version": "3.9.13"
  },
  "orig_nbformat": 4
 },
 "nbformat": 4,
 "nbformat_minor": 2
}
